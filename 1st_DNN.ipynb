{
  "nbformat": 4,
  "nbformat_minor": 0,
  "metadata": {
    "colab": {
      "name": "1st DNN.ipynb",
      "provenance": [],
      "collapsed_sections": [],
      "include_colab_link": true
    },
    "kernelspec": {
      "name": "python3",
      "display_name": "Python 3"
    },
    "accelerator": "GPU"
  },
  "cells": [
    {
      "cell_type": "markdown",
      "metadata": {
        "id": "view-in-github",
        "colab_type": "text"
      },
      "source": [
        "<a href=\"https://colab.research.google.com/github/abhinavdayal/EIP4/blob/master/1st_DNN.ipynb\" target=\"_parent\"><img src=\"https://colab.research.google.com/assets/colab-badge.svg\" alt=\"Open In Colab\"/></a>"
      ]
    },
    {
      "cell_type": "markdown",
      "metadata": {
        "id": "aNyZv-Ec52ot",
        "colab_type": "text"
      },
      "source": [
        "# **Import Libraries and modules**"
      ]
    },
    {
      "cell_type": "code",
      "metadata": {
        "id": "3m3w1Cw49Zkt",
        "colab_type": "code",
        "outputId": "2a8ed2d4-e1d1-4f6b-e546-8d50a4156194",
        "colab": {
          "base_uri": "https://localhost:8080/",
          "height": 80
        }
      },
      "source": [
        "# https://keras.io/\n",
        "!pip install -q keras\n",
        "import keras"
      ],
      "execution_count": 1,
      "outputs": [
        {
          "output_type": "stream",
          "text": [
            "Using TensorFlow backend.\n"
          ],
          "name": "stderr"
        },
        {
          "output_type": "display_data",
          "data": {
            "text/html": [
              "<p style=\"color: red;\">\n",
              "The default version of TensorFlow in Colab will soon switch to TensorFlow 2.x.<br>\n",
              "We recommend you <a href=\"https://www.tensorflow.org/guide/migrate\" target=\"_blank\">upgrade</a> now \n",
              "or ensure your notebook will continue to use TensorFlow 1.x via the <code>%tensorflow_version 1.x</code> magic:\n",
              "<a href=\"https://colab.research.google.com/notebooks/tensorflow_version.ipynb\" target=\"_blank\">more info</a>.</p>\n"
            ],
            "text/plain": [
              "<IPython.core.display.HTML object>"
            ]
          },
          "metadata": {
            "tags": []
          }
        }
      ]
    },
    {
      "cell_type": "code",
      "metadata": {
        "id": "Eso6UHE080D4",
        "colab_type": "code",
        "colab": {}
      },
      "source": [
        "import numpy as np\n",
        "\n",
        "from keras.models import Sequential\n",
        "from keras.layers import Dense, Dropout, Activation, Flatten, Add\n",
        "from keras.layers import Convolution2D, MaxPooling2D\n",
        "from keras.utils import np_utils\n",
        "\n",
        "from keras.datasets import mnist"
      ],
      "execution_count": 0,
      "outputs": []
    },
    {
      "cell_type": "markdown",
      "metadata": {
        "id": "zByEi95J86RD",
        "colab_type": "text"
      },
      "source": [
        "### Load pre-shuffled MNIST data into train and test sets"
      ]
    },
    {
      "cell_type": "code",
      "metadata": {
        "id": "7eRM0QWN83PV",
        "colab_type": "code",
        "colab": {}
      },
      "source": [
        "(X_train, y_train), (X_test, y_test) = mnist.load_data()"
      ],
      "execution_count": 0,
      "outputs": []
    },
    {
      "cell_type": "code",
      "metadata": {
        "id": "yU3KPCCtz6ts",
        "colab_type": "code",
        "colab": {
          "base_uri": "https://localhost:8080/",
          "height": 34
        },
        "outputId": "1acb3dab-4dcd-43d0-8a02-dfa06a754193"
      },
      "source": [
        "print (X_train.shape, X_test.shape)"
      ],
      "execution_count": 4,
      "outputs": [
        {
          "output_type": "stream",
          "text": [
            "(60000, 28, 28) (10000, 28, 28)\n"
          ],
          "name": "stdout"
        }
      ]
    },
    {
      "cell_type": "code",
      "metadata": {
        "id": "4a4Be72j8-ZC",
        "colab_type": "code",
        "outputId": "a982e5f3-1119-48da-8fe1-d2cc4c29e2bb",
        "colab": {
          "base_uri": "https://localhost:8080/",
          "height": 811
        }
      },
      "source": [
        "from matplotlib import pyplot as plt\n",
        "%matplotlib inline\n",
        "r, c = 5, 5\n",
        "figmatrix = plt.figure(figsize=(14, 14))\n",
        "for i in range(1, r*c+1):\n",
        "  plt.subplot(r, c, i)\n",
        "  plt.imshow(X_train[i-1])\n",
        "  plt.grid(which=\"both\")\n",
        "  plt.text(2, 4, y_train[i-1], color=\"white\", fontsize=\"xx-large\")\n",
        "plt.show()"
      ],
      "execution_count": 26,
      "outputs": [
        {
          "output_type": "display_data",
          "data": {
            "image/png": "[encoded data removed]",
            "text/plain": [
              "<Figure size 1008x1008 with 25 Axes>"
            ]
          },
          "metadata": {
            "tags": []
          }
        }
      ]
    },
    {
      "cell_type": "code",
      "metadata": {
        "id": "dkmprriw9AnZ",
        "colab_type": "code",
        "colab": {}
      },
      "source": [
        "X_train = X_train.reshape(X_train.shape[0], 28, 28,1)\n",
        "X_test = X_test.reshape(X_test.shape[0], 28, 28,1)"
      ],
      "execution_count": 0,
      "outputs": []
    },
    {
      "cell_type": "code",
      "metadata": {
        "id": "X2m4YS4E9CRh",
        "colab_type": "code",
        "colab": {}
      },
      "source": [
        "X_train = X_train.astype('float32')\n",
        "X_test = X_test.astype('float32')\n",
        "X_train /= 255\n",
        "X_test /= 255"
      ],
      "execution_count": 0,
      "outputs": []
    },
    {
      "cell_type": "code",
      "metadata": {
        "id": "0Mn0vAYD9DvB",
        "colab_type": "code",
        "outputId": "bb54c92f-66ea-469b-d5cd-e4b1165bdef3",
        "colab": {
          "base_uri": "https://localhost:8080/",
          "height": 34
        }
      },
      "source": [
        "y_train[:10]"
      ],
      "execution_count": 8,
      "outputs": [
        {
          "output_type": "execute_result",
          "data": {
            "text/plain": [
              "array([5, 0, 4, 1, 9, 2, 1, 3, 1, 4], dtype=uint8)"
            ]
          },
          "metadata": {
            "tags": []
          },
          "execution_count": 8
        }
      ]
    },
    {
      "cell_type": "code",
      "metadata": {
        "id": "ZG8JiXR39FHC",
        "colab_type": "code",
        "colab": {}
      },
      "source": [
        "# Convert 1-dimensional class arrays to 10-dimensional class matrices\n",
        "Y_train = np_utils.to_categorical(y_train, 10)\n",
        "Y_test = np_utils.to_categorical(y_test, 10)"
      ],
      "execution_count": 0,
      "outputs": []
    },
    {
      "cell_type": "code",
      "metadata": {
        "id": "fYlFRvKS9HMB",
        "colab_type": "code",
        "outputId": "2eb1bc91-f3c5-44cb-9b21-42c320442c7a",
        "colab": {
          "base_uri": "https://localhost:8080/",
          "height": 187
        }
      },
      "source": [
        "Y_train[:10]\n"
      ],
      "execution_count": 10,
      "outputs": [
        {
          "output_type": "execute_result",
          "data": {
            "text/plain": [
              "array([[0., 0., 0., 0., 0., 1., 0., 0., 0., 0.],\n",
              "       [1., 0., 0., 0., 0., 0., 0., 0., 0., 0.],\n",
              "       [0., 0., 0., 0., 1., 0., 0., 0., 0., 0.],\n",
              "       [0., 1., 0., 0., 0., 0., 0., 0., 0., 0.],\n",
              "       [0., 0., 0., 0., 0., 0., 0., 0., 0., 1.],\n",
              "       [0., 0., 1., 0., 0., 0., 0., 0., 0., 0.],\n",
              "       [0., 1., 0., 0., 0., 0., 0., 0., 0., 0.],\n",
              "       [0., 0., 0., 1., 0., 0., 0., 0., 0., 0.],\n",
              "       [0., 1., 0., 0., 0., 0., 0., 0., 0., 0.],\n",
              "       [0., 0., 0., 0., 1., 0., 0., 0., 0., 0.]], dtype=float32)"
            ]
          },
          "metadata": {
            "tags": []
          },
          "execution_count": 10
        }
      ]
    },
    {
      "cell_type": "code",
      "metadata": {
        "id": "osKqT73Q9JJB",
        "colab_type": "code",
        "outputId": "6ec21065-5d01-4817-8e49-5042cbb309ec",
        "colab": {
          "base_uri": "https://localhost:8080/",
          "height": 119
        }
      },
      "source": [
        "from keras.layers import Activation\n",
        "# let us do a test model\n",
        "model = Sequential()\n",
        " \n",
        "model.add(Convolution2D(32, 3, 3, activation='relu', input_shape=(28,28,1)))\n",
        "model.add(Convolution2D(64, 3, 3, activation='relu', input_shape=(26,26,32)))\n",
        "model.add(Convolution2D(128, 3, 3, activation='relu', input_shape=(24,24,64)))\n",
        "model.add(MaxPooling2D()) # do max pooling after seeing \n",
        "model.add(Convolution2D(10, 1, activation='relu'))\n",
        "model.add(Convolution2D(10, 11))\n",
        "model.add(Flatten())\n",
        "model.add(Activation('softmax'))\n"
      ],
      "execution_count": 34,
      "outputs": [
        {
          "output_type": "stream",
          "text": [
            "/usr/local/lib/python3.6/dist-packages/ipykernel_launcher.py:5: UserWarning: Update your `Conv2D` call to the Keras 2 API: `Conv2D(32, (3, 3), activation=\"relu\", input_shape=(28, 28, 1...)`\n",
            "  \"\"\"\n",
            "/usr/local/lib/python3.6/dist-packages/ipykernel_launcher.py:6: UserWarning: Update your `Conv2D` call to the Keras 2 API: `Conv2D(64, (3, 3), activation=\"relu\", input_shape=(26, 26, 3...)`\n",
            "  \n",
            "/usr/local/lib/python3.6/dist-packages/ipykernel_launcher.py:7: UserWarning: Update your `Conv2D` call to the Keras 2 API: `Conv2D(128, (3, 3), activation=\"relu\", input_shape=(24, 24, 6...)`\n",
            "  import sys\n"
          ],
          "name": "stderr"
        }
      ]
    },
    {
      "cell_type": "code",
      "metadata": {
        "id": "TzdAYg1k9K7Z",
        "colab_type": "code",
        "outputId": "de30ec0f-ec2a-43ce-a6da-f22003cefd5d",
        "colab": {
          "base_uri": "https://localhost:8080/",
          "height": 425
        }
      },
      "source": [
        "model.summary()"
      ],
      "execution_count": 35,
      "outputs": [
        {
          "output_type": "stream",
          "text": [
            "Model: \"sequential_5\"\n",
            "_________________________________________________________________\n",
            "Layer (type)                 Output Shape              Param #   \n",
            "=================================================================\n",
            "conv2d_27 (Conv2D)           (None, 26, 26, 32)        320       \n",
            "_________________________________________________________________\n",
            "conv2d_28 (Conv2D)           (None, 24, 24, 64)        18496     \n",
            "_________________________________________________________________\n",
            "conv2d_29 (Conv2D)           (None, 22, 22, 128)       73856     \n",
            "_________________________________________________________________\n",
            "max_pooling2d_5 (MaxPooling2 (None, 11, 11, 128)       0         \n",
            "_________________________________________________________________\n",
            "conv2d_30 (Conv2D)           (None, 11, 11, 10)        1290      \n",
            "_________________________________________________________________\n",
            "conv2d_31 (Conv2D)           (None, 1, 1, 10)          12110     \n",
            "_________________________________________________________________\n",
            "flatten_4 (Flatten)          (None, 10)                0         \n",
            "_________________________________________________________________\n",
            "activation_4 (Activation)    (None, 10)                0         \n",
            "=================================================================\n",
            "Total params: 106,072\n",
            "Trainable params: 106,072\n",
            "Non-trainable params: 0\n",
            "_________________________________________________________________\n"
          ],
          "name": "stdout"
        }
      ]
    },
    {
      "cell_type": "code",
      "metadata": {
        "id": "Zp6SuGrL9M3h",
        "colab_type": "code",
        "colab": {
          "base_uri": "https://localhost:8080/",
          "height": 85
        },
        "outputId": "61eb401d-25b1-4802-fab3-bd3893ef531d"
      },
      "source": [
        "model.compile(loss='categorical_crossentropy',\n",
        "             optimizer='adam',\n",
        "             metrics=['accuracy'])"
      ],
      "execution_count": 11,
      "outputs": [
        {
          "output_type": "stream",
          "text": [
            "WARNING:tensorflow:From /usr/local/lib/python3.6/dist-packages/keras/optimizers.py:793: The name tf.train.Optimizer is deprecated. Please use tf.compat.v1.train.Optimizer instead.\n",
            "\n",
            "WARNING:tensorflow:From /usr/local/lib/python3.6/dist-packages/keras/backend/tensorflow_backend.py:3576: The name tf.log is deprecated. Please use tf.math.log instead.\n",
            "\n"
          ],
          "name": "stdout"
        }
      ]
    },
    {
      "cell_type": "code",
      "metadata": {
        "id": "ujY0QMWT3Rca",
        "colab_type": "code",
        "colab": {}
      },
      "source": [
        "# as per class initially we assign random weights.\n",
        "# https://keras.io/models/about-keras-models/#about-keras-models\n",
        "initial_weights = model.get_weights() "
      ],
      "execution_count": 0,
      "outputs": []
    },
    {
      "cell_type": "code",
      "metadata": {
        "id": "4xWoKhPY9Of5",
        "colab_type": "code",
        "outputId": "bfbbf142-8ad6-4d76-b246-857fbad18e93",
        "colab": {
          "base_uri": "https://localhost:8080/",
          "height": 663
        }
      },
      "source": [
        "# let us see if batch_size has impact upon training.\n",
        "for b in [1, 10, 32, 100, 600, 1000, 2000, 5000, 10000]:\n",
        "  # let us restore weights to nullify previous training\n",
        "  model.set_weights(initial_weights) \n",
        "  model.fit(X_train, Y_train, batch_size=b, nb_epoch=1, verbose=1)\n",
        "  score = model.evaluate(X_test, Y_test, verbose=0)\n",
        "  print(\"batch size =\", b, \"accuracy =\", score)"
      ],
      "execution_count": 13,
      "outputs": [
        {
          "output_type": "stream",
          "text": [
            "WARNING:tensorflow:From /usr/local/lib/python3.6/dist-packages/tensorflow_core/python/ops/math_grad.py:1424: where (from tensorflow.python.ops.array_ops) is deprecated and will be removed in a future version.\n",
            "Instructions for updating:\n",
            "Use tf.where in 2.0, which has the same broadcast rule as np.where\n",
            "WARNING:tensorflow:From /usr/local/lib/python3.6/dist-packages/keras/backend/tensorflow_backend.py:1033: The name tf.assign_add is deprecated. Please use tf.compat.v1.assign_add instead.\n",
            "\n"
          ],
          "name": "stdout"
        },
        {
          "output_type": "stream",
          "text": [
            "/usr/local/lib/python3.6/dist-packages/ipykernel_launcher.py:4: UserWarning: The `nb_epoch` argument in `fit` has been renamed `epochs`.\n",
            "  after removing the cwd from sys.path.\n"
          ],
          "name": "stderr"
        },
        {
          "output_type": "stream",
          "text": [
            "WARNING:tensorflow:From /usr/local/lib/python3.6/dist-packages/keras/backend/tensorflow_backend.py:1020: The name tf.assign is deprecated. Please use tf.compat.v1.assign instead.\n",
            "\n",
            "Epoch 1/1\n",
            "60000/60000 [==============================] - 309s 5ms/step - loss: 0.1484 - acc: 0.9551\n",
            "batch size = 1 accuracy = [0.0713699407744687, 0.9763]\n",
            "Epoch 1/1\n",
            "  180/60000 [..............................] - ETA: 53s - loss: 2.0446 - acc: 0.3167 "
          ],
          "name": "stdout"
        },
        {
          "output_type": "stream",
          "text": [
            "/usr/local/lib/python3.6/dist-packages/ipykernel_launcher.py:4: UserWarning: The `nb_epoch` argument in `fit` has been renamed `epochs`.\n",
            "  after removing the cwd from sys.path.\n"
          ],
          "name": "stderr"
        },
        {
          "output_type": "stream",
          "text": [
            "60000/60000 [==============================] - 32s 536us/step - loss: 0.1262 - acc: 0.9624\n",
            "batch size = 10 accuracy = [0.06865261684004217, 0.9784]\n",
            "Epoch 1/1\n",
            "60000/60000 [==============================] - 11s 183us/step - loss: 0.1372 - acc: 0.9576\n",
            "batch size = 32 accuracy = [0.05664653780274093, 0.9805]\n",
            "Epoch 1/1\n",
            "60000/60000 [==============================] - 6s 96us/step - loss: 0.2120 - acc: 0.9329\n",
            "batch size = 100 accuracy = [0.0655535811807029, 0.9795]\n",
            "Epoch 1/1\n",
            "60000/60000 [==============================] - 4s 63us/step - loss: 0.7298 - acc: 0.7590\n",
            "batch size = 600 accuracy = [0.15422186697870494, 0.9544]\n",
            "Epoch 1/1\n",
            "60000/60000 [==============================] - 4s 62us/step - loss: 1.1229 - acc: 0.6114\n",
            "batch size = 1000 accuracy = [0.26645567961633204, 0.9226]\n",
            "Epoch 1/1\n",
            "60000/60000 [==============================] - 4s 65us/step - loss: 1.7398 - acc: 0.4315\n",
            "batch size = 2000 accuracy = [0.41964152249097825, 0.8733]\n",
            "Epoch 1/1\n",
            "60000/60000 [==============================] - 5s 76us/step - loss: 2.1641 - acc: 0.2522\n",
            "batch size = 5000 accuracy = [1.6426838218688964, 0.5797]\n",
            "Epoch 1/1\n",
            "60000/60000 [==============================] - 5s 87us/step - loss: 2.1908 - acc: 0.2706\n",
            "batch size = 10000 accuracy = [1.8542809913635254, 0.429]\n"
          ],
          "name": "stdout"
        }
      ]
    },
    {
      "cell_type": "code",
      "metadata": {
        "id": "rSmDq9tj6-oD",
        "colab_type": "code",
        "colab": {
          "base_uri": "https://localhost:8080/",
          "height": 357
        },
        "outputId": "289b0d58-3e20-42d2-f158-843ef2f6a636"
      },
      "source": [
        "# So it seems from 32 to 100 is decreased and till that point it was increasing. Let us explore more.\n",
        "for b in [40, 50, 60, 64, 70, 80]:\n",
        "  # let us restore weights to nullify previous training\n",
        "  model.set_weights(initial_weights) \n",
        "  model.fit(X_train, Y_train, batch_size=b, nb_epoch=1, verbose=1)\n",
        "  score = model.evaluate(X_test, Y_test, verbose=0)\n",
        "  print(\"batch size =\", b, \"accuracy =\", score)"
      ],
      "execution_count": 14,
      "outputs": [
        {
          "output_type": "stream",
          "text": [
            "Epoch 1/1\n",
            "  680/60000 [..............................] - ETA: 16s - loss: 1.6458 - acc: 0.4765"
          ],
          "name": "stdout"
        },
        {
          "output_type": "stream",
          "text": [
            "/usr/local/lib/python3.6/dist-packages/ipykernel_launcher.py:4: UserWarning: The `nb_epoch` argument in `fit` has been renamed `epochs`.\n",
            "  after removing the cwd from sys.path.\n"
          ],
          "name": "stderr"
        },
        {
          "output_type": "stream",
          "text": [
            "60000/60000 [==============================] - 10s 162us/step - loss: 0.1471 - acc: 0.9553\n",
            "batch size = 40 accuracy = [0.05969142751358449, 0.9812]\n",
            "Epoch 1/1\n",
            "60000/60000 [==============================] - 8s 139us/step - loss: 0.1804 - acc: 0.9433\n",
            "batch size = 50 accuracy = [0.07370615161573514, 0.9771]\n",
            "Epoch 1/1\n",
            "60000/60000 [==============================] - 8s 127us/step - loss: 0.1913 - acc: 0.9384\n",
            "batch size = 60 accuracy = [0.0696611636120826, 0.9763]\n",
            "Epoch 1/1\n",
            "60000/60000 [==============================] - 7s 122us/step - loss: 0.2031 - acc: 0.9357\n",
            "batch size = 64 accuracy = [0.06017186764460057, 0.9816]\n",
            "Epoch 1/1\n",
            "60000/60000 [==============================] - 7s 115us/step - loss: 0.2037 - acc: 0.9339\n",
            "batch size = 70 accuracy = [0.06830269861267879, 0.9791]\n",
            "Epoch 1/1\n",
            "60000/60000 [==============================] - 6s 105us/step - loss: 0.2200 - acc: 0.9292\n",
            "batch size = 80 accuracy = [0.07431254132892937, 0.9758]\n"
          ],
          "name": "stdout"
        }
      ]
    },
    {
      "cell_type": "code",
      "metadata": {
        "id": "3CSx82Bf7hIP",
        "colab_type": "code",
        "colab": {
          "base_uri": "https://localhost:8080/",
          "height": 255
        },
        "outputId": "7a125f01-13c6-4273-8091-b3f2b8833fba"
      },
      "source": [
        "# So it seems from 32 to 100 is decreased and till that point it was increasing. Let us explore more.\n",
        "for b in [36, 48, 72, 96]:\n",
        "  # let us restore weights to nullify previous training\n",
        "  model.set_weights(initial_weights) \n",
        "  model.fit(X_train, Y_train, batch_size=b, nb_epoch=1, verbose=1)\n",
        "  score = model.evaluate(X_test, Y_test, verbose=0)\n",
        "  print(\"batch size =\", b, \"accuracy =\", score)"
      ],
      "execution_count": 15,
      "outputs": [
        {
          "output_type": "stream",
          "text": [
            "Epoch 1/1\n",
            "  540/60000 [..............................] - ETA: 19s - loss: 2.2834 - acc: 0.2019"
          ],
          "name": "stdout"
        },
        {
          "output_type": "stream",
          "text": [
            "/usr/local/lib/python3.6/dist-packages/ipykernel_launcher.py:4: UserWarning: The `nb_epoch` argument in `fit` has been renamed `epochs`.\n",
            "  after removing the cwd from sys.path.\n"
          ],
          "name": "stderr"
        },
        {
          "output_type": "stream",
          "text": [
            "60000/60000 [==============================] - 10s 173us/step - loss: 0.1645 - acc: 0.9489\n",
            "batch size = 36 accuracy = [0.07126859587458893, 0.979]\n",
            "Epoch 1/1\n",
            "60000/60000 [==============================] - 8s 141us/step - loss: 0.1739 - acc: 0.9447\n",
            "batch size = 48 accuracy = [0.05639408501479775, 0.9818]\n",
            "Epoch 1/1\n",
            "60000/60000 [==============================] - 7s 112us/step - loss: 0.2157 - acc: 0.9323\n",
            "batch size = 72 accuracy = [0.0721501486249268, 0.9769]\n",
            "Epoch 1/1\n",
            "60000/60000 [==============================] - 6s 96us/step - loss: 0.2440 - acc: 0.9216\n",
            "batch size = 96 accuracy = [0.06456149299750105, 0.9794]\n"
          ],
          "name": "stdout"
        }
      ]
    },
    {
      "cell_type": "code",
      "metadata": {
        "id": "pjTNPfZf75iY",
        "colab_type": "code",
        "colab": {
          "base_uri": "https://localhost:8080/",
          "height": 153
        },
        "outputId": "b478a826-0edc-458a-e0bb-4d1e092b5981"
      },
      "source": [
        "# So it seems from 32 to 100 is decreased and till that point it was increasing. Let us explore more.\n",
        "for b in [56, 96]:\n",
        "  # let us restore weights to nullify previous training\n",
        "  model.set_weights(initial_weights) \n",
        "  model.fit(X_train, Y_train, batch_size=b, nb_epoch=1, verbose=1)\n",
        "  score = model.evaluate(X_test, Y_test, verbose=0)\n",
        "  print(\"batch size =\", b, \"accuracy =\", score)"
      ],
      "execution_count": 16,
      "outputs": [
        {
          "output_type": "stream",
          "text": [
            "Epoch 1/1\n",
            "  784/60000 [..............................] - ETA: 14s - loss: 2.2705 - acc: 0.1276"
          ],
          "name": "stdout"
        },
        {
          "output_type": "stream",
          "text": [
            "/usr/local/lib/python3.6/dist-packages/ipykernel_launcher.py:4: UserWarning: The `nb_epoch` argument in `fit` has been renamed `epochs`.\n",
            "  after removing the cwd from sys.path.\n"
          ],
          "name": "stderr"
        },
        {
          "output_type": "stream",
          "text": [
            "60000/60000 [==============================] - 8s 132us/step - loss: 0.1833 - acc: 0.9414\n",
            "batch size = 56 accuracy = [0.0527415868985001, 0.9829]\n",
            "Epoch 1/1\n",
            "60000/60000 [==============================] - 6s 94us/step - loss: 0.2339 - acc: 0.9256\n",
            "batch size = 96 accuracy = [0.07745401786630973, 0.9738]\n"
          ],
          "name": "stdout"
        }
      ]
    },
    {
      "cell_type": "code",
      "metadata": {
        "id": "k_GCuVP68mOI",
        "colab_type": "code",
        "colab": {
          "base_uri": "https://localhost:8080/",
          "height": 510
        },
        "outputId": "98ab9dd9-05df-4549-8627-f62534d578cf"
      },
      "source": [
        "# So it seems from 32 to 100 is decreased and till that point it was increasing. Let us explore more.\n",
        "for b in [8, 16, 24, 32, 40, 48, 56, 64, 72]:\n",
        "  # let us restore weights to nullify previous training\n",
        "  model.set_weights(initial_weights) \n",
        "  model.fit(X_train, Y_train, batch_size=b, nb_epoch=1, verbose=1)\n",
        "  score = model.evaluate(X_test, Y_test, verbose=0)\n",
        "  print(\"batch size =\", b, \"accuracy =\", score)"
      ],
      "execution_count": 20,
      "outputs": [
        {
          "output_type": "stream",
          "text": [
            "Epoch 1/1\n",
            "  184/60000 [..............................] - ETA: 57s - loss: 2.2293 - acc: 0.2011 "
          ],
          "name": "stdout"
        },
        {
          "output_type": "stream",
          "text": [
            "/usr/local/lib/python3.6/dist-packages/ipykernel_launcher.py:4: UserWarning: The `nb_epoch` argument in `fit` has been renamed `epochs`.\n",
            "  after removing the cwd from sys.path.\n"
          ],
          "name": "stderr"
        },
        {
          "output_type": "stream",
          "text": [
            "60000/60000 [==============================] - 40s 669us/step - loss: 0.1232 - acc: 0.9621\n",
            "batch size = 8 accuracy = [0.06404622584800236, 0.9789]\n",
            "Epoch 1/1\n",
            "60000/60000 [==============================] - 20s 341us/step - loss: 0.1296 - acc: 0.9604\n",
            "batch size = 16 accuracy = [0.06457089278018102, 0.9792]\n",
            "Epoch 1/1\n",
            "60000/60000 [==============================] - 14s 238us/step - loss: 0.1357 - acc: 0.9574\n",
            "batch size = 24 accuracy = [0.07477481442554854, 0.9771]\n",
            "Epoch 1/1\n",
            "60000/60000 [==============================] - 11s 185us/step - loss: 0.1447 - acc: 0.9555\n",
            "batch size = 32 accuracy = [0.06861231400799006, 0.9778]\n",
            "Epoch 1/1\n",
            "60000/60000 [==============================] - 10s 160us/step - loss: 0.1655 - acc: 0.9494\n",
            "batch size = 40 accuracy = [0.05341568983802572, 0.983]\n",
            "Epoch 1/1\n",
            "60000/60000 [==============================] - 8s 140us/step - loss: 0.1759 - acc: 0.9454\n",
            "batch size = 48 accuracy = [0.05413614996366668, 0.983]\n",
            "Epoch 1/1\n",
            "60000/60000 [==============================] - 8s 129us/step - loss: 0.1768 - acc: 0.9448\n",
            "batch size = 56 accuracy = [0.05047590135894716, 0.984]\n",
            "Epoch 1/1\n",
            "60000/60000 [==============================] - 7s 118us/step - loss: 0.1849 - acc: 0.9417\n",
            "batch size = 64 accuracy = [0.06837223164979368, 0.9784]\n",
            "Epoch 1/1\n",
            "60000/60000 [==============================] - 7s 113us/step - loss: 0.1980 - acc: 0.9370\n",
            "batch size = 72 accuracy = [0.06607865958288311, 0.981]\n"
          ],
          "name": "stdout"
        }
      ]
    },
    {
      "cell_type": "code",
      "metadata": {
        "id": "jDFtsrzT9u0i",
        "colab_type": "code",
        "colab": {
          "base_uri": "https://localhost:8080/",
          "height": 510
        },
        "outputId": "82512e89-2a62-4037-cb25-47de8c1575f1"
      },
      "source": [
        "# do again\n",
        "for b in [8, 16, 24, 32, 40, 48, 56, 64, 72]:\n",
        "  # let us restore weights to nullify previous training\n",
        "  model.set_weights(initial_weights) \n",
        "  model.fit(X_train, Y_train, batch_size=b, nb_epoch=1, verbose=1)\n",
        "  score = model.evaluate(X_test, Y_test, verbose=0)\n",
        "  print(\"batch size =\", b, \"accuracy =\", score)"
      ],
      "execution_count": 21,
      "outputs": [
        {
          "output_type": "stream",
          "text": [
            "Epoch 1/1\n",
            "  192/60000 [..............................] - ETA: 51s - loss: 2.2123 - acc: 0.2188"
          ],
          "name": "stdout"
        },
        {
          "output_type": "stream",
          "text": [
            "/usr/local/lib/python3.6/dist-packages/ipykernel_launcher.py:4: UserWarning: The `nb_epoch` argument in `fit` has been renamed `epochs`.\n",
            "  after removing the cwd from sys.path.\n"
          ],
          "name": "stderr"
        },
        {
          "output_type": "stream",
          "text": [
            "60000/60000 [==============================] - 43s 720us/step - loss: 0.1289 - acc: 0.9603\n",
            "batch size = 8 accuracy = [0.06134011909160763, 0.9809]\n",
            "Epoch 1/1\n",
            "60000/60000 [==============================] - 21s 352us/step - loss: 0.1452 - acc: 0.9572\n",
            "batch size = 16 accuracy = [0.056220544341858476, 0.9814]\n",
            "Epoch 1/1\n",
            "60000/60000 [==============================] - 14s 241us/step - loss: 0.1380 - acc: 0.9576\n",
            "batch size = 24 accuracy = [0.045321519207023084, 0.9868]\n",
            "Epoch 1/1\n",
            "60000/60000 [==============================] - 11s 185us/step - loss: 0.1395 - acc: 0.9574\n",
            "batch size = 32 accuracy = [0.05365959085756913, 0.9824]\n",
            "Epoch 1/1\n",
            "60000/60000 [==============================] - 9s 157us/step - loss: 0.1631 - acc: 0.9498\n",
            "batch size = 40 accuracy = [0.06935354304481298, 0.9787]\n",
            "Epoch 1/1\n",
            "60000/60000 [==============================] - 8s 135us/step - loss: 0.1667 - acc: 0.9479\n",
            "batch size = 48 accuracy = [0.0497482908718288, 0.9832]\n",
            "Epoch 1/1\n",
            "60000/60000 [==============================] - 8s 131us/step - loss: 0.1914 - acc: 0.9397\n",
            "batch size = 56 accuracy = [0.07165313062611968, 0.9782]\n",
            "Epoch 1/1\n",
            "60000/60000 [==============================] - 7s 118us/step - loss: 0.1943 - acc: 0.9377\n",
            "batch size = 64 accuracy = [0.0685407520874869, 0.9768]\n",
            "Epoch 1/1\n",
            "60000/60000 [==============================] - 7s 113us/step - loss: 0.2039 - acc: 0.9352\n",
            "batch size = 72 accuracy = [0.06255328886266798, 0.9805]\n"
          ],
          "name": "stdout"
        }
      ]
    },
    {
      "cell_type": "code",
      "metadata": {
        "id": "ijb3pJ-U-fKA",
        "colab_type": "code",
        "colab": {
          "base_uri": "https://localhost:8080/",
          "height": 663
        },
        "outputId": "d12c9871-45f8-4268-88f5-4998a49308b5"
      },
      "source": [
        "model = Sequential()\n",
        " \n",
        "model.add(Convolution2D(32, 3, 3, activation='relu', input_shape=(28,28,1)))\n",
        "model.add(Convolution2D(64, 3, 3, activation='relu', input_shape=(26,26,32)))\n",
        "model.add(Convolution2D(128, 3, 3, activation='relu', input_shape=(24,24,64)))\n",
        "model.add(MaxPooling2D())\n",
        "model.add(Convolution2D(128, 1, activation='relu'))\n",
        "model.add(Convolution2D(32, 3, 3, activation='relu', input_shape=(11,11,128)))\n",
        "model.add(Convolution2D(64, 3, 3, activation='relu', input_shape=(9,9,32)))\n",
        "model.add(Convolution2D(10, 7))\n",
        "model.add(Flatten())\n",
        "model.add(Activation('softmax'))\n",
        "model.summary()"
      ],
      "execution_count": 45,
      "outputs": [
        {
          "output_type": "stream",
          "text": [
            "Model: \"sequential_7\"\n",
            "_________________________________________________________________\n",
            "Layer (type)                 Output Shape              Param #   \n",
            "=================================================================\n",
            "conv2d_39 (Conv2D)           (None, 26, 26, 32)        320       \n",
            "_________________________________________________________________\n",
            "conv2d_40 (Conv2D)           (None, 24, 24, 64)        18496     \n",
            "_________________________________________________________________\n",
            "conv2d_41 (Conv2D)           (None, 22, 22, 128)       73856     \n",
            "_________________________________________________________________\n",
            "max_pooling2d_7 (MaxPooling2 (None, 11, 11, 128)       0         \n",
            "_________________________________________________________________\n",
            "conv2d_42 (Conv2D)           (None, 11, 11, 128)       16512     \n",
            "_________________________________________________________________\n",
            "conv2d_43 (Conv2D)           (None, 9, 9, 32)          36896     \n",
            "_________________________________________________________________\n",
            "conv2d_44 (Conv2D)           (None, 7, 7, 64)          18496     \n",
            "_________________________________________________________________\n",
            "conv2d_45 (Conv2D)           (None, 1, 1, 10)          31370     \n",
            "_________________________________________________________________\n",
            "flatten_6 (Flatten)          (None, 10)                0         \n",
            "_________________________________________________________________\n",
            "activation_6 (Activation)    (None, 10)                0         \n",
            "=================================================================\n",
            "Total params: 195,946\n",
            "Trainable params: 195,946\n",
            "Non-trainable params: 0\n",
            "_________________________________________________________________\n"
          ],
          "name": "stdout"
        },
        {
          "output_type": "stream",
          "text": [
            "/usr/local/lib/python3.6/dist-packages/ipykernel_launcher.py:3: UserWarning: Update your `Conv2D` call to the Keras 2 API: `Conv2D(32, (3, 3), activation=\"relu\", input_shape=(28, 28, 1...)`\n",
            "  This is separate from the ipykernel package so we can avoid doing imports until\n",
            "/usr/local/lib/python3.6/dist-packages/ipykernel_launcher.py:4: UserWarning: Update your `Conv2D` call to the Keras 2 API: `Conv2D(64, (3, 3), activation=\"relu\", input_shape=(26, 26, 3...)`\n",
            "  after removing the cwd from sys.path.\n",
            "/usr/local/lib/python3.6/dist-packages/ipykernel_launcher.py:5: UserWarning: Update your `Conv2D` call to the Keras 2 API: `Conv2D(128, (3, 3), activation=\"relu\", input_shape=(24, 24, 6...)`\n",
            "  \"\"\"\n",
            "/usr/local/lib/python3.6/dist-packages/ipykernel_launcher.py:8: UserWarning: Update your `Conv2D` call to the Keras 2 API: `Conv2D(32, (3, 3), activation=\"relu\", input_shape=(11, 11, 1...)`\n",
            "  \n",
            "/usr/local/lib/python3.6/dist-packages/ipykernel_launcher.py:9: UserWarning: Update your `Conv2D` call to the Keras 2 API: `Conv2D(64, (3, 3), activation=\"relu\", input_shape=(9, 9, 32))`\n",
            "  if __name__ == '__main__':\n"
          ],
          "name": "stderr"
        }
      ]
    },
    {
      "cell_type": "code",
      "metadata": {
        "id": "w8-XcOO8Aabk",
        "colab_type": "code",
        "colab": {}
      },
      "source": [
        "model.compile(loss='categorical_crossentropy',\n",
        "             optimizer='adam',\n",
        "             metrics=['accuracy'])"
      ],
      "execution_count": 0,
      "outputs": []
    },
    {
      "cell_type": "code",
      "metadata": {
        "id": "CCLuNTiXAOPc",
        "colab_type": "code",
        "colab": {
          "base_uri": "https://localhost:8080/",
          "height": 408
        },
        "outputId": "28e0f279-8c57-4acc-d971-6fbd15d35f97"
      },
      "source": [
        "model.fit(X_train, Y_train, batch_size=32, nb_epoch=10, verbose=1)"
      ],
      "execution_count": 47,
      "outputs": [
        {
          "output_type": "stream",
          "text": [
            "/usr/local/lib/python3.6/dist-packages/ipykernel_launcher.py:1: UserWarning: The `nb_epoch` argument in `fit` has been renamed `epochs`.\n",
            "  \"\"\"Entry point for launching an IPython kernel.\n"
          ],
          "name": "stderr"
        },
        {
          "output_type": "stream",
          "text": [
            "Epoch 1/10\n",
            "60000/60000 [==============================] - 14s 233us/step - loss: 0.1180 - acc: 0.9644\n",
            "Epoch 2/10\n",
            "60000/60000 [==============================] - 14s 228us/step - loss: 0.0433 - acc: 0.9865\n",
            "Epoch 3/10\n",
            "60000/60000 [==============================] - 13s 219us/step - loss: 0.0304 - acc: 0.9908\n",
            "Epoch 4/10\n",
            "60000/60000 [==============================] - 14s 227us/step - loss: 0.0236 - acc: 0.9926\n",
            "Epoch 5/10\n",
            "60000/60000 [==============================] - 13s 218us/step - loss: 0.0190 - acc: 0.9938\n",
            "Epoch 6/10\n",
            "60000/60000 [==============================] - 13s 223us/step - loss: 0.0155 - acc: 0.9949\n",
            "Epoch 7/10\n",
            "60000/60000 [==============================] - 14s 226us/step - loss: 0.0133 - acc: 0.9958\n",
            "Epoch 8/10\n",
            "60000/60000 [==============================] - 13s 224us/step - loss: 0.0107 - acc: 0.9965\n",
            "Epoch 9/10\n",
            "60000/60000 [==============================] - 13s 221us/step - loss: 0.0106 - acc: 0.9964\n",
            "Epoch 10/10\n",
            "60000/60000 [==============================] - 14s 226us/step - loss: 0.0091 - acc: 0.9970\n"
          ],
          "name": "stdout"
        },
        {
          "output_type": "execute_result",
          "data": {
            "text/plain": [
              "<keras.callbacks.History at 0x7f2307625278>"
            ]
          },
          "metadata": {
            "tags": []
          },
          "execution_count": 47
        }
      ]
    },
    {
      "cell_type": "markdown",
      "metadata": {
        "id": "ubMNsigm8eup",
        "colab_type": "text"
      },
      "source": [
        ""
      ]
    },
    {
      "cell_type": "code",
      "metadata": {
        "id": "AtsH-lLk-eLb",
        "colab_type": "code",
        "colab": {}
      },
      "source": [
        "score = model.evaluate(X_test, Y_test, verbose=0)"
      ],
      "execution_count": 0,
      "outputs": []
    },
    {
      "cell_type": "code",
      "metadata": {
        "id": "mkX8JMv79q9r",
        "colab_type": "code",
        "outputId": "7cc8354e-d267-4ad4-ac4b-874a7a6c08ef",
        "colab": {
          "base_uri": "https://localhost:8080/",
          "height": 34
        }
      },
      "source": [
        "print(score)"
      ],
      "execution_count": 49,
      "outputs": [
        {
          "output_type": "stream",
          "text": [
            "[0.03425389943891428, 0.9928]\n"
          ],
          "name": "stdout"
        }
      ]
    },
    {
      "cell_type": "code",
      "metadata": {
        "id": "JvxWhQreBYJJ",
        "colab_type": "code",
        "colab": {
          "base_uri": "https://localhost:8080/",
          "height": 170
        },
        "outputId": "d3d0c685-7af8-440e-8071-bdd621517740"
      },
      "source": [
        "# let us see if training for another 3 epochs is going to help? But this time we will use larger batch size to make it faster\n",
        "model.fit(X_train, Y_train, batch_size=128, nb_epoch=3, verbose=1)"
      ],
      "execution_count": 50,
      "outputs": [
        {
          "output_type": "stream",
          "text": [
            "Epoch 1/3\n",
            " 1152/60000 [..............................] - ETA: 8s - loss: 0.0020 - acc: 1.0000"
          ],
          "name": "stdout"
        },
        {
          "output_type": "stream",
          "text": [
            "/usr/local/lib/python3.6/dist-packages/ipykernel_launcher.py:1: UserWarning: The `nb_epoch` argument in `fit` has been renamed `epochs`.\n",
            "  \"\"\"Entry point for launching an IPython kernel.\n"
          ],
          "name": "stderr"
        },
        {
          "output_type": "stream",
          "text": [
            "60000/60000 [==============================] - 6s 103us/step - loss: 0.0015 - acc: 0.9995\n",
            "Epoch 2/3\n",
            "60000/60000 [==============================] - 6s 102us/step - loss: 4.2138e-04 - acc: 1.0000\n",
            "Epoch 3/3\n",
            "60000/60000 [==============================] - 6s 104us/step - loss: 3.1317e-04 - acc: 1.0000\n"
          ],
          "name": "stdout"
        },
        {
          "output_type": "execute_result",
          "data": {
            "text/plain": [
              "<keras.callbacks.History at 0x7f2307387080>"
            ]
          },
          "metadata": {
            "tags": []
          },
          "execution_count": 50
        }
      ]
    },
    {
      "cell_type": "code",
      "metadata": {
        "id": "5t2tM-CtByCY",
        "colab_type": "code",
        "colab": {
          "base_uri": "https://localhost:8080/",
          "height": 34
        },
        "outputId": "89ad5297-1ba1-4624-8457-e2ccc245b747"
      },
      "source": [
        "score = model.evaluate(X_test, Y_test, verbose=0)\n",
        "print(score)"
      ],
      "execution_count": 51,
      "outputs": [
        {
          "output_type": "stream",
          "text": [
            "[0.03921784806154058, 0.9932]\n"
          ],
          "name": "stdout"
        }
      ]
    },
    {
      "cell_type": "markdown",
      "metadata": {
        "id": "aMROUPJXB8ah",
        "colab_type": "text"
      },
      "source": [
        "OK so it helped a bit, we got .9932 accuracy.\n",
        "\n",
        "Let us try a different model now by trying to add more channels in initial layers."
      ]
    },
    {
      "cell_type": "code",
      "metadata": {
        "id": "OMpARVlNCCLy",
        "colab_type": "code",
        "colab": {
          "base_uri": "https://localhost:8080/",
          "height": 697
        },
        "outputId": "7f52bd77-e78f-4565-d84f-ddbf6fad2371"
      },
      "source": [
        "model = Sequential()\n",
        " \n",
        "model.add(Convolution2D(64, 3, 3, activation='relu', input_shape=(28,28,1)))\n",
        "model.add(Convolution2D(128, 3, 3, activation='relu')) #26x26x128\n",
        "model.add(Convolution2D(256, 3, 3, activation='relu')) #24x24x256\n",
        "model.add(MaxPooling2D()) #11x11x256\n",
        "model.add(Convolution2D(128, 1, activation='relu')) # 11x11x128\n",
        "model.add(Convolution2D(256, 3, 3, activation='relu')) #9x9x256\n",
        "model.add(Convolution2D(512, 3, 3, activation='relu')) #7x7x512\n",
        "model.add(Convolution2D(10, 1)) #7x7x10\n",
        "model.add(Convolution2D(10, 7)) #1x1x10\n",
        "model.add(Flatten())\n",
        "model.add(Activation('softmax'))\n",
        "model.summary()"
      ],
      "execution_count": 72,
      "outputs": [
        {
          "output_type": "stream",
          "text": [
            "Model: \"sequential_17\"\n",
            "_________________________________________________________________\n",
            "Layer (type)                 Output Shape              Param #   \n",
            "=================================================================\n",
            "conv2d_118 (Conv2D)          (None, 26, 26, 64)        640       \n",
            "_________________________________________________________________\n",
            "conv2d_119 (Conv2D)          (None, 24, 24, 128)       73856     \n",
            "_________________________________________________________________\n",
            "conv2d_120 (Conv2D)          (None, 22, 22, 256)       295168    \n",
            "_________________________________________________________________\n",
            "max_pooling2d_21 (MaxPooling (None, 11, 11, 256)       0         \n",
            "_________________________________________________________________\n",
            "conv2d_121 (Conv2D)          (None, 11, 11, 128)       32896     \n",
            "_________________________________________________________________\n",
            "conv2d_122 (Conv2D)          (None, 9, 9, 256)         295168    \n",
            "_________________________________________________________________\n",
            "conv2d_123 (Conv2D)          (None, 7, 7, 512)         1180160   \n",
            "_________________________________________________________________\n",
            "conv2d_124 (Conv2D)          (None, 7, 7, 10)          5130      \n",
            "_________________________________________________________________\n",
            "conv2d_125 (Conv2D)          (None, 1, 1, 10)          4910      \n",
            "_________________________________________________________________\n",
            "flatten_16 (Flatten)         (None, 10)                0         \n",
            "_________________________________________________________________\n",
            "activation_16 (Activation)   (None, 10)                0         \n",
            "=================================================================\n",
            "Total params: 1,887,928\n",
            "Trainable params: 1,887,928\n",
            "Non-trainable params: 0\n",
            "_________________________________________________________________\n"
          ],
          "name": "stdout"
        },
        {
          "output_type": "stream",
          "text": [
            "/usr/local/lib/python3.6/dist-packages/ipykernel_launcher.py:3: UserWarning: Update your `Conv2D` call to the Keras 2 API: `Conv2D(64, (3, 3), activation=\"relu\", input_shape=(28, 28, 1...)`\n",
            "  This is separate from the ipykernel package so we can avoid doing imports until\n",
            "/usr/local/lib/python3.6/dist-packages/ipykernel_launcher.py:4: UserWarning: Update your `Conv2D` call to the Keras 2 API: `Conv2D(128, (3, 3), activation=\"relu\")`\n",
            "  after removing the cwd from sys.path.\n",
            "/usr/local/lib/python3.6/dist-packages/ipykernel_launcher.py:5: UserWarning: Update your `Conv2D` call to the Keras 2 API: `Conv2D(256, (3, 3), activation=\"relu\")`\n",
            "  \"\"\"\n",
            "/usr/local/lib/python3.6/dist-packages/ipykernel_launcher.py:8: UserWarning: Update your `Conv2D` call to the Keras 2 API: `Conv2D(256, (3, 3), activation=\"relu\")`\n",
            "  \n",
            "/usr/local/lib/python3.6/dist-packages/ipykernel_launcher.py:9: UserWarning: Update your `Conv2D` call to the Keras 2 API: `Conv2D(512, (3, 3), activation=\"relu\")`\n",
            "  if __name__ == '__main__':\n"
          ],
          "name": "stderr"
        }
      ]
    },
    {
      "cell_type": "code",
      "metadata": {
        "id": "zwfVBCJxGwNa",
        "colab_type": "code",
        "colab": {
          "base_uri": "https://localhost:8080/",
          "height": 408
        },
        "outputId": "bbcadc7d-338f-44f7-e3ee-2f138245e4be"
      },
      "source": [
        "model.compile(loss='categorical_crossentropy',\n",
        "             optimizer='adam',\n",
        "             metrics=['accuracy'])\n",
        "model.fit(X_train, Y_train, batch_size=32, nb_epoch=10, verbose=1)\n",
        "score = model.evaluate(X_test, Y_test, verbose=0)\n",
        "print(score)"
      ],
      "execution_count": 73,
      "outputs": [
        {
          "output_type": "stream",
          "text": [
            "/usr/local/lib/python3.6/dist-packages/ipykernel_launcher.py:4: UserWarning: The `nb_epoch` argument in `fit` has been renamed `epochs`.\n",
            "  after removing the cwd from sys.path.\n"
          ],
          "name": "stderr"
        },
        {
          "output_type": "stream",
          "text": [
            "Epoch 1/10\n",
            "60000/60000 [==============================] - 23s 387us/step - loss: 0.1278 - acc: 0.9595\n",
            "Epoch 2/10\n",
            "60000/60000 [==============================] - 22s 363us/step - loss: 0.0486 - acc: 0.9851\n",
            "Epoch 3/10\n",
            "60000/60000 [==============================] - 22s 362us/step - loss: 0.0357 - acc: 0.9887\n",
            "Epoch 4/10\n",
            "60000/60000 [==============================] - 22s 362us/step - loss: 0.0284 - acc: 0.9915\n",
            "Epoch 5/10\n",
            "60000/60000 [==============================] - 22s 363us/step - loss: 0.0224 - acc: 0.9927\n",
            "Epoch 6/10\n",
            "60000/60000 [==============================] - 22s 365us/step - loss: 0.0185 - acc: 0.9942\n",
            "Epoch 7/10\n",
            "60000/60000 [==============================] - 21s 358us/step - loss: 0.0167 - acc: 0.9949\n",
            "Epoch 8/10\n",
            "60000/60000 [==============================] - 22s 369us/step - loss: 0.0146 - acc: 0.9955\n",
            "Epoch 9/10\n",
            "60000/60000 [==============================] - 22s 362us/step - loss: 0.0122 - acc: 0.9964\n",
            "Epoch 10/10\n",
            "60000/60000 [==============================] - 22s 365us/step - loss: 0.0122 - acc: 0.9963\n",
            "[0.04133551925265301, 0.9914]\n"
          ],
          "name": "stdout"
        }
      ]
    },
    {
      "cell_type": "code",
      "metadata": {
        "id": "H_Qe0kfYK6u0",
        "colab_type": "code",
        "colab": {
          "base_uri": "https://localhost:8080/",
          "height": 238
        },
        "outputId": "6662534b-a907-4fee-ad4c-8f2288c44ee7"
      },
      "source": [
        "# let us see if training for another 3 epochs is going to help? But this time we will use larger batch size to make it faster\n",
        "model.fit(X_train, Y_train, batch_size=128, nb_epoch=5, verbose=1)\n",
        "score = model.evaluate(X_test, Y_test, verbose=0)\n",
        "print(score)"
      ],
      "execution_count": 74,
      "outputs": [
        {
          "output_type": "stream",
          "text": [
            "Epoch 1/5\n",
            "\r  128/60000 [..............................] - ETA: 1:16 - loss: 0.0032 - acc: 1.0000"
          ],
          "name": "stdout"
        },
        {
          "output_type": "stream",
          "text": [
            "/usr/local/lib/python3.6/dist-packages/ipykernel_launcher.py:1: UserWarning: The `nb_epoch` argument in `fit` has been renamed `epochs`.\n",
            "  \"\"\"Entry point for launching an IPython kernel.\n"
          ],
          "name": "stderr"
        },
        {
          "output_type": "stream",
          "text": [
            "60000/60000 [==============================] - 13s 214us/step - loss: 0.0025 - acc: 0.9992\n",
            "Epoch 2/5\n",
            "60000/60000 [==============================] - 13s 210us/step - loss: 4.7943e-04 - acc: 0.9999\n",
            "Epoch 3/5\n",
            "60000/60000 [==============================] - 13s 210us/step - loss: 3.1608e-04 - acc: 1.0000\n",
            "Epoch 4/5\n",
            "60000/60000 [==============================] - 13s 210us/step - loss: 2.9010e-04 - acc: 1.0000\n",
            "Epoch 5/5\n",
            "60000/60000 [==============================] - 13s 211us/step - loss: 2.8253e-04 - acc: 1.0000\n",
            "[0.030534973314906573, 0.995]\n"
          ],
          "name": "stdout"
        }
      ]
    },
    {
      "cell_type": "code",
      "metadata": {
        "id": "OCWoJkwE9suh",
        "colab_type": "code",
        "colab": {}
      },
      "source": [
        "y_pred = model.predict(X_test)"
      ],
      "execution_count": 0,
      "outputs": []
    },
    {
      "cell_type": "code",
      "metadata": {
        "id": "Ym7iCFBm9uBs",
        "colab_type": "code",
        "outputId": "2e0b7d34-d80c-4eab-b69b-c03dbfb37e51",
        "colab": {
          "base_uri": "https://localhost:8080/",
          "height": 493
        }
      },
      "source": [
        "print(y_pred[:9])\n",
        "print(y_test[:9])"
      ],
      "execution_count": 76,
      "outputs": [
        {
          "output_type": "stream",
          "text": [
            "[[5.16628762e-23 3.33911979e-23 1.33768853e-15 1.06848145e-15\n",
            "  3.66956340e-28 1.91694046e-22 1.22661265e-33 1.00000000e+00\n",
            "  4.59217314e-22 1.25892591e-15]\n",
            " [3.73819542e-16 2.25277470e-18 1.00000000e+00 7.49568627e-23\n",
            "  1.34196600e-23 4.31223050e-32 5.92400657e-18 1.10371959e-23\n",
            "  4.23596376e-23 1.43110885e-27]\n",
            " [2.72681505e-14 1.00000000e+00 9.39151486e-16 2.07678333e-14\n",
            "  9.81890825e-14 1.56062737e-14 2.35651545e-14 1.88850619e-11\n",
            "  7.69540735e-13 1.25402741e-15]\n",
            " [1.00000000e+00 1.11957293e-19 1.19561125e-15 1.12868216e-17\n",
            "  7.07313922e-19 1.11661999e-14 3.93372970e-13 1.50860321e-19\n",
            "  4.35457616e-12 9.76998647e-13]\n",
            " [1.47586497e-22 2.32384615e-11 1.51824220e-22 5.61584911e-24\n",
            "  1.00000000e+00 5.04755717e-22 2.84889632e-16 8.52438718e-26\n",
            "  4.27491738e-18 2.45940971e-15]\n",
            " [5.27881893e-18 1.00000000e+00 1.01145912e-16 8.17949277e-17\n",
            "  1.96609981e-12 3.33208869e-20 1.93853548e-17 1.34447479e-11\n",
            "  5.16504492e-16 7.41559214e-17]\n",
            " [2.20535592e-24 1.47277035e-09 4.37273360e-21 1.51688091e-23\n",
            "  1.00000000e+00 4.35233735e-18 1.01307556e-19 8.38050671e-14\n",
            "  7.27813166e-16 2.01377261e-12]\n",
            " [1.19783197e-19 8.88229838e-20 5.76102345e-20 1.83908402e-16\n",
            "  7.45234088e-14 1.36281056e-19 4.67887655e-27 2.58563606e-20\n",
            "  1.74388202e-16 1.00000000e+00]\n",
            " [2.37360062e-15 3.52800835e-20 1.44734147e-25 4.79163436e-18\n",
            "  3.27851249e-17 9.93340433e-01 6.65811123e-03 5.14305604e-22\n",
            "  1.37601182e-06 2.65097490e-15]]\n",
            "[7 2 1 0 4 1 4 9 5]\n"
          ],
          "name": "stdout"
        }
      ]
    },
    {
      "cell_type": "code",
      "metadata": {
        "id": "CT--y98_dr2T",
        "colab_type": "code",
        "colab": {}
      },
      "source": [
        "layer_dict = dict([(layer.name, layer) for layer in model.layers])"
      ],
      "execution_count": 0,
      "outputs": []
    },
    {
      "cell_type": "code",
      "metadata": {
        "id": "y_g1c_GNYiCx",
        "colab_type": "code",
        "colab": {
          "base_uri": "https://localhost:8080/",
          "height": 34
        },
        "outputId": "d20c8e57-108d-4847-ad07-5ed29185830c"
      },
      "source": [
        "print(*layer_dict.keys())"
      ],
      "execution_count": 80,
      "outputs": [
        {
          "output_type": "stream",
          "text": [
            "conv2d_118 conv2d_119 conv2d_120 max_pooling2d_21 conv2d_121 conv2d_122 conv2d_123 conv2d_124 conv2d_125 flatten_16 activation_16\n"
          ],
          "name": "stdout"
        }
      ]
    },
    {
      "cell_type": "code",
      "metadata": {
        "id": "2GY4Upv4dsUR",
        "colab_type": "code",
        "outputId": "7dc984f5-5e52-440c-d095-9349d431def6",
        "colab": {
          "base_uri": "https://localhost:8080/",
          "height": 868
        }
      },
      "source": [
        "import numpy as np\n",
        "from matplotlib import pyplot as plt\n",
        "from keras import backend as K\n",
        "%matplotlib inline\n",
        "# util function to convert a tensor into a valid image\n",
        "def deprocess_image(x):\n",
        "    # normalize tensor: center on 0., ensure std is 0.1\n",
        "    x -= x.mean()\n",
        "    x /= (x.std() + 1e-5)\n",
        "    x *= 0.1\n",
        "\n",
        "    # clip to [0, 1]\n",
        "    x += 0.5\n",
        "    x = np.clip(x, 0, 1)\n",
        "\n",
        "    # convert to RGB array\n",
        "    x *= 255\n",
        "    #x = x.transpose((1, 2, 0))\n",
        "    x = np.clip(x, 0, 255).astype('uint8')\n",
        "    return x\n",
        "\n",
        "def vis_img_in_filter(img = np.array(X_train[2]).reshape((1, 28, 28, 1)).astype(np.float64), \n",
        "                      layer_name = 'conv2d_121'):\n",
        "    layer_output = layer_dict[layer_name].output\n",
        "    img_ascs = list()\n",
        "    for filter_index in range(layer_output.shape[3]):\n",
        "        # build a loss function that maximizes the activation\n",
        "        # of the nth filter of the layer considered\n",
        "        loss = K.mean(layer_output[:, :, :, filter_index])\n",
        "\n",
        "        # compute the gradient of the input picture wrt this loss\n",
        "        grads = K.gradients(loss, model.input)[0]\n",
        "\n",
        "        # normalization trick: we normalize the gradient\n",
        "        grads /= (K.sqrt(K.mean(K.square(grads))) + 1e-5)\n",
        "\n",
        "        # this function returns the loss and grads given the input picture\n",
        "        iterate = K.function([model.input], [loss, grads])\n",
        "\n",
        "        # step size for gradient ascent\n",
        "        step = 5.\n",
        "\n",
        "        img_asc = np.array(img)\n",
        "        # run gradient ascent for 20 steps\n",
        "        for i in range(20):\n",
        "            loss_value, grads_value = iterate([img_asc])\n",
        "            img_asc += grads_value * step\n",
        "\n",
        "        img_asc = img_asc[0]\n",
        "        img_ascs.append(deprocess_image(img_asc).reshape((28, 28)))\n",
        "        \n",
        "    if layer_output.shape[3] >= 35:\n",
        "        plot_x, plot_y = 6, 6\n",
        "    elif layer_output.shape[3] >= 23:\n",
        "        plot_x, plot_y = 4, 6\n",
        "    elif layer_output.shape[3] >= 11:\n",
        "        plot_x, plot_y = 2, 6\n",
        "    else:\n",
        "        plot_x, plot_y = 1, 2\n",
        "    fig, ax = plt.subplots(plot_x, plot_y, figsize = (12, 12))\n",
        "    ax[0, 0].imshow(img.reshape((28, 28)), cmap = 'gray')\n",
        "    ax[0, 0].set_title('Input image')\n",
        "    fig.suptitle('Input image and %s filters' % (layer_name,))\n",
        "    fig.tight_layout(pad = 0.3, rect = [0, 0, 0.9, 0.9])\n",
        "    for (x, y) in [(i, j) for i in range(plot_x) for j in range(plot_y)]:\n",
        "        if x == 0 and y == 0:\n",
        "            continue\n",
        "        ax[x, y].imshow(img_ascs[x * plot_y + y - 1], cmap = 'gray')\n",
        "        ax[x, y].set_title('filter %d' % (x * plot_y + y - 1))\n",
        "\n",
        "vis_img_in_filter()"
      ],
      "execution_count": 81,
      "outputs": [
        {
          "output_type": "display_data",
          "data": {
            "image/png": "[encoded data removed]",
            "text/plain": [
              "<Figure size 864x864 with 36 Axes>"
            ]
          },
          "metadata": {
            "tags": []
          }
        }
      ]
    },
    {
      "cell_type": "code",
      "metadata": {
        "id": "9tvptcn8dxvp",
        "colab_type": "code",
        "colab": {}
      },
      "source": [
        ""
      ],
      "execution_count": 0,
      "outputs": []
    }
  ]
}